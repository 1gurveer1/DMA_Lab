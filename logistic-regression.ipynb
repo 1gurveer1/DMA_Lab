{
 "cells": [
  {
   "cell_type": "code",
   "execution_count": 1,
   "id": "55b24ae3",
   "metadata": {
    "_cell_guid": "b1076dfc-b9ad-4769-8c92-a6c4dae69d19",
    "_uuid": "8f2839f25d086af736a60e9eeb907d3b93b6e0e5",
    "execution": {
     "iopub.execute_input": "2022-03-09T07:31:50.588163Z",
     "iopub.status.busy": "2022-03-09T07:31:50.586143Z",
     "iopub.status.idle": "2022-03-09T07:31:50.599166Z",
     "shell.execute_reply": "2022-03-09T07:31:50.598459Z",
     "shell.execute_reply.started": "2022-03-09T07:29:05.922281Z"
    },
    "papermill": {
     "duration": 0.034909,
     "end_time": "2022-03-09T07:31:50.599346",
     "exception": false,
     "start_time": "2022-03-09T07:31:50.564437",
     "status": "completed"
    },
    "tags": []
   },
   "outputs": [],
   "source": [
    "import numpy as np\n",
    "import matplotlib.pyplot as plt\n",
    "import pandas as pd"
   ]
  },
  {
   "cell_type": "code",
   "execution_count": 2,
   "id": "c2facf80",
   "metadata": {
    "execution": {
     "iopub.execute_input": "2022-03-09T07:31:50.636957Z",
     "iopub.status.busy": "2022-03-09T07:31:50.636169Z",
     "iopub.status.idle": "2022-03-09T07:31:50.653057Z",
     "shell.execute_reply": "2022-03-09T07:31:50.653523Z",
     "shell.execute_reply.started": "2022-03-09T07:29:05.930594Z"
    },
    "papermill": {
     "duration": 0.037523,
     "end_time": "2022-03-09T07:31:50.653741",
     "exception": false,
     "start_time": "2022-03-09T07:31:50.616218",
     "status": "completed"
    },
    "tags": []
   },
   "outputs": [],
   "source": [
    "dataset = pd.read_csv('../input/social-network/Social_Network_Ads.csv')\n",
    "X = dataset.iloc[:, [2, 3]].values\n",
    "y = dataset.iloc[:, 4].values"
   ]
  },
  {
   "cell_type": "code",
   "execution_count": 3,
   "id": "d010318f",
   "metadata": {
    "execution": {
     "iopub.execute_input": "2022-03-09T07:31:50.707885Z",
     "iopub.status.busy": "2022-03-09T07:31:50.683795Z",
     "iopub.status.idle": "2022-03-09T07:31:50.711389Z",
     "shell.execute_reply": "2022-03-09T07:31:50.711930Z",
     "shell.execute_reply.started": "2022-03-09T07:29:05.952437Z"
    },
    "papermill": {
     "duration": 0.044704,
     "end_time": "2022-03-09T07:31:50.712097",
     "exception": false,
     "start_time": "2022-03-09T07:31:50.667393",
     "status": "completed"
    },
    "tags": []
   },
   "outputs": [
    {
     "name": "stdout",
     "output_type": "stream",
     "text": [
      "<class 'pandas.core.frame.DataFrame'>\n",
      "RangeIndex: 400 entries, 0 to 399\n",
      "Data columns (total 5 columns):\n",
      " #   Column           Non-Null Count  Dtype \n",
      "---  ------           --------------  ----- \n",
      " 0   User ID          400 non-null    int64 \n",
      " 1   Gender           400 non-null    object\n",
      " 2   Age              400 non-null    int64 \n",
      " 3   EstimatedSalary  400 non-null    int64 \n",
      " 4   Purchased        400 non-null    int64 \n",
      "dtypes: int64(4), object(1)\n",
      "memory usage: 15.8+ KB\n"
     ]
    }
   ],
   "source": [
    "dataset.info()"
   ]
  },
  {
   "cell_type": "code",
   "execution_count": 4,
   "id": "8c94ef0d",
   "metadata": {
    "execution": {
     "iopub.execute_input": "2022-03-09T07:31:50.746877Z",
     "iopub.status.busy": "2022-03-09T07:31:50.746155Z",
     "iopub.status.idle": "2022-03-09T07:31:52.118151Z",
     "shell.execute_reply": "2022-03-09T07:31:52.117523Z",
     "shell.execute_reply.started": "2022-03-09T07:29:05.970398Z"
    },
    "papermill": {
     "duration": 1.391438,
     "end_time": "2022-03-09T07:31:52.118345",
     "exception": false,
     "start_time": "2022-03-09T07:31:50.726907",
     "status": "completed"
    },
    "tags": []
   },
   "outputs": [],
   "source": [
    "from sklearn.model_selection import train_test_split\n",
    "X_train, X_test, y_train, y_test = train_test_split(X, y, test_size = 0.25, random_state = 0)"
   ]
  },
  {
   "cell_type": "markdown",
   "id": "c4fe78b5",
   "metadata": {
    "papermill": {
     "duration": 0.013896,
     "end_time": "2022-03-09T07:31:52.146679",
     "exception": false,
     "start_time": "2022-03-09T07:31:52.132783",
     "status": "completed"
    },
    "tags": []
   },
   "source": []
  },
  {
   "cell_type": "code",
   "execution_count": 5,
   "id": "4bfdf6bf",
   "metadata": {
    "execution": {
     "iopub.execute_input": "2022-03-09T07:31:52.182617Z",
     "iopub.status.busy": "2022-03-09T07:31:52.181084Z",
     "iopub.status.idle": "2022-03-09T07:31:52.185291Z",
     "shell.execute_reply": "2022-03-09T07:31:52.184625Z",
     "shell.execute_reply.started": "2022-03-09T07:29:05.985262Z"
    },
    "papermill": {
     "duration": 0.024408,
     "end_time": "2022-03-09T07:31:52.185440",
     "exception": false,
     "start_time": "2022-03-09T07:31:52.161032",
     "status": "completed"
    },
    "tags": []
   },
   "outputs": [],
   "source": [
    "from sklearn.preprocessing import StandardScaler\n",
    "sc = StandardScaler()\n",
    "X_train = sc.fit_transform(X_train)\n",
    "X_test = sc.transform(X_test)"
   ]
  },
  {
   "cell_type": "code",
   "execution_count": 6,
   "id": "6b4aef28",
   "metadata": {
    "execution": {
     "iopub.execute_input": "2022-03-09T07:31:52.219838Z",
     "iopub.status.busy": "2022-03-09T07:31:52.218973Z",
     "iopub.status.idle": "2022-03-09T07:31:52.313154Z",
     "shell.execute_reply": "2022-03-09T07:31:52.314118Z",
     "shell.execute_reply.started": "2022-03-09T07:29:05.997497Z"
    },
    "papermill": {
     "duration": 0.114888,
     "end_time": "2022-03-09T07:31:52.314411",
     "exception": false,
     "start_time": "2022-03-09T07:31:52.199523",
     "status": "completed"
    },
    "tags": []
   },
   "outputs": [
    {
     "data": {
      "text/plain": [
       "LogisticRegression(random_state=0)"
      ]
     },
     "execution_count": 6,
     "metadata": {},
     "output_type": "execute_result"
    }
   ],
   "source": [
    "from sklearn.linear_model import LogisticRegression\n",
    "classifier = LogisticRegression(random_state = 0)\n",
    "classifier.fit(X_train, y_train)"
   ]
  },
  {
   "cell_type": "markdown",
   "id": "7c210f62",
   "metadata": {
    "papermill": {
     "duration": 0.014364,
     "end_time": "2022-03-09T07:31:52.344419",
     "exception": false,
     "start_time": "2022-03-09T07:31:52.330055",
     "status": "completed"
    },
    "tags": []
   },
   "source": []
  },
  {
   "cell_type": "code",
   "execution_count": 7,
   "id": "b08dd8bb",
   "metadata": {
    "execution": {
     "iopub.execute_input": "2022-03-09T07:31:52.376497Z",
     "iopub.status.busy": "2022-03-09T07:31:52.375884Z",
     "iopub.status.idle": "2022-03-09T07:31:52.379755Z",
     "shell.execute_reply": "2022-03-09T07:31:52.380334Z",
     "shell.execute_reply.started": "2022-03-09T07:29:06.022537Z"
    },
    "papermill": {
     "duration": 0.021492,
     "end_time": "2022-03-09T07:31:52.380522",
     "exception": false,
     "start_time": "2022-03-09T07:31:52.359030",
     "status": "completed"
    },
    "tags": []
   },
   "outputs": [],
   "source": [
    "y_pred = classifier.predict(X_test)"
   ]
  },
  {
   "cell_type": "code",
   "execution_count": 8,
   "id": "2101d75f",
   "metadata": {
    "execution": {
     "iopub.execute_input": "2022-03-09T07:31:52.413108Z",
     "iopub.status.busy": "2022-03-09T07:31:52.412457Z",
     "iopub.status.idle": "2022-03-09T07:31:52.417695Z",
     "shell.execute_reply": "2022-03-09T07:31:52.418202Z",
     "shell.execute_reply.started": "2022-03-09T07:29:06.032865Z"
    },
    "papermill": {
     "duration": 0.023056,
     "end_time": "2022-03-09T07:31:52.418383",
     "exception": false,
     "start_time": "2022-03-09T07:31:52.395327",
     "status": "completed"
    },
    "tags": []
   },
   "outputs": [],
   "source": [
    "from sklearn.metrics import confusion_matrix\n",
    "cm = confusion_matrix(y_test, y_pred)"
   ]
  },
  {
   "cell_type": "code",
   "execution_count": 9,
   "id": "df9b1709",
   "metadata": {
    "execution": {
     "iopub.execute_input": "2022-03-09T07:31:52.450420Z",
     "iopub.status.busy": "2022-03-09T07:31:52.449743Z",
     "iopub.status.idle": "2022-03-09T07:31:52.870966Z",
     "shell.execute_reply": "2022-03-09T07:31:52.870310Z",
     "shell.execute_reply.started": "2022-03-09T07:29:06.045543Z"
    },
    "papermill": {
     "duration": 0.438323,
     "end_time": "2022-03-09T07:31:52.871143",
     "exception": false,
     "start_time": "2022-03-09T07:31:52.432820",
     "status": "completed"
    },
    "tags": []
   },
   "outputs": [
    {
     "data": {
      "text/plain": [
       "<AxesSubplot:>"
      ]
     },
     "execution_count": 9,
     "metadata": {},
     "output_type": "execute_result"
    },
    {
     "data": {
      "image/png": "[encoded data removed]",
      "text/plain": [
       "<Figure size 720x576 with 2 Axes>"
      ]
     },
     "metadata": {
      "needs_background": "light"
     },
     "output_type": "display_data"
    }
   ],
   "source": [
    "import seaborn as sns\n",
    "plt.figure(figsize = (10,8))\n",
    "sns.heatmap(cm,annot = True)"
   ]
  },
  {
   "cell_type": "code",
   "execution_count": 10,
   "id": "ad5b39bf",
   "metadata": {
    "execution": {
     "iopub.execute_input": "2022-03-09T07:31:52.912703Z",
     "iopub.status.busy": "2022-03-09T07:31:52.911983Z",
     "iopub.status.idle": "2022-03-09T07:31:53.313616Z",
     "shell.execute_reply": "2022-03-09T07:31:53.313014Z",
     "shell.execute_reply.started": "2022-03-09T07:29:06.306100Z"
    },
    "papermill": {
     "duration": 0.426487,
     "end_time": "2022-03-09T07:31:53.313789",
     "exception": false,
     "start_time": "2022-03-09T07:31:52.887302",
     "status": "completed"
    },
    "tags": []
   },
   "outputs": [
    {
     "data": {
      "image/png": "[encoded data removed]",
      "text/plain": [
       "<Figure size 720x576 with 1 Axes>"
      ]
     },
     "metadata": {
      "needs_background": "light"
     },
     "output_type": "display_data"
    }
   ],
   "source": [
    "from matplotlib.colors import ListedColormap\n",
    "X_set, y_set = X_train, y_train\n",
    "plt.figure(figsize = (10,8))\n",
    "X1, X2 = np.meshgrid(np.arange(start = X_set[:, 0].min() - 1, stop = X_set[:, 0].max() + 1, step = 0.01),\n",
    "    np.arange(start = X_set[:, 1].min() - 1, stop = X_set[:, 1].max() + 1, step = 0.01))\n",
    "plt.contourf(X1, X2, classifier.predict(np.array([X1.ravel(), X2.ravel()]).T).reshape(X1.shape),\n",
    "alpha = 0.75, cmap = ListedColormap(('red', 'green')))\n",
    "\n",
    "plt.xlim(X1.min(), X1.max())\n",
    "plt.ylim(X2.min(), X2.max())\n",
    "for i, j in enumerate(np.unique(y_set)):\n",
    "    plt.scatter(X_set[y_set == j, 0], X_set[y_set == j, 1],\n",
    "    c = ListedColormap(('red', 'green'))(i), label = j)\n",
    "plt.title('Logistic Regression (Training set)')\n",
    "plt.xlabel('Age')\n",
    "plt.ylabel('Estimated Salary')\n",
    "plt.legend()\n",
    "plt.show()"
   ]
  },
  {
   "cell_type": "code",
   "execution_count": 11,
   "id": "a14f8922",
   "metadata": {
    "execution": {
     "iopub.execute_input": "2022-03-09T07:31:53.361449Z",
     "iopub.status.busy": "2022-03-09T07:31:53.360748Z",
     "iopub.status.idle": "2022-03-09T07:31:53.730943Z",
     "shell.execute_reply": "2022-03-09T07:31:53.731458Z",
     "shell.execute_reply.started": "2022-03-09T07:29:06.716048Z"
    },
    "papermill": {
     "duration": 0.400386,
     "end_time": "2022-03-09T07:31:53.731681",
     "exception": false,
     "start_time": "2022-03-09T07:31:53.331295",
     "status": "completed"
    },
    "tags": []
   },
   "outputs": [
    {
     "data": {
      "image/png": "[encoded data removed]",
      "text/plain": [
       "<Figure size 720x576 with 1 Axes>"
      ]
     },
     "metadata": {
      "needs_background": "light"
     },
     "output_type": "display_data"
    }
   ],
   "source": [
    "from matplotlib.colors import ListedColormap\n",
    "X_set, y_set = X_test, y_test\n",
    "plt.figure(figsize = (10,8))\n",
    "X1, X2 = np.meshgrid(np.arange(start = X_set[:, 0].min() - 1, stop = X_set[:, 0].max() + 1, step = 0.01),\n",
    "np.arange(start = X_set[:, 1].min() - 1, stop = X_set[:, 1].max() + 1, step = 0.01))\n",
    "plt.contourf(X1, X2, classifier.predict(np.array([X1.ravel(), X2.ravel()]).T).reshape(X1.shape),\n",
    "alpha = 0.75, cmap = ListedColormap(('red', 'green')))\n",
    "plt.xlim(X1.min(), X1.max())\n",
    "plt.ylim(X2.min(), X2.max())\n",
    "for i, j in enumerate(np.unique(y_set)):\n",
    "    plt.scatter(X_set[y_set == j, 0], X_set[y_set == j, 1],\n",
    "    c = ListedColormap(('red', 'green'))(i), label = j)\n",
    "plt.title('Logistic Regression (Test set)')\n",
    "plt.xlabel('Age')\n",
    "plt.ylabel('Estimated Salary')\n",
    "plt.legend()\n",
    "plt.show()"
   ]
  }
 ],
 "metadata": {
  "kernelspec": {
   "display_name": "Python 3",
   "language": "python",
   "name": "python3"
  },
  "language_info": {
   "codemirror_mode": {
    "name": "ipython",
    "version": 3
   },
   "file_extension": ".py",
   "mimetype": "text/x-python",
   "name": "python",
   "nbconvert_exporter": "python",
   "pygments_lexer": "ipython3",
   "version": "3.7.12"
  },
  "papermill": {
   "default_parameters": {},
   "duration": 14.687015,
   "end_time": "2022-03-09T07:31:54.762996",
   "environment_variables": {},
   "exception": null,
   "input_path": "__notebook__.ipynb",
   "output_path": "__notebook__.ipynb",
   "parameters": {},
   "start_time": "2022-03-09T07:31:40.075981",
   "version": "2.3.3"
  }
 },
 "nbformat": 4,
 "nbformat_minor": 5
}
