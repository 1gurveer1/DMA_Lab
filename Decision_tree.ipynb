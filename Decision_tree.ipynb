{
 "cells": [
  {
   "cell_type": "code",
   "execution_count": 1,
   "id": "f40e8321",
   "metadata": {
    "execution": {
     "iopub.execute_input": "2022-03-02T07:44:26.980909Z",
     "iopub.status.busy": "2022-03-02T07:44:26.978835Z",
     "iopub.status.idle": "2022-03-02T07:44:26.984530Z",
     "shell.execute_reply": "2022-03-02T07:44:26.985176Z",
     "shell.execute_reply.started": "2022-03-02T07:38:22.253645Z"
    },
    "papermill": {
     "duration": 0.023205,
     "end_time": "2022-03-02T07:44:26.985489",
     "exception": false,
     "start_time": "2022-03-02T07:44:26.962284",
     "status": "completed"
    },
    "tags": []
   },
   "outputs": [],
   "source": [
    "import numpy as np\n",
    "import matplotlib.pyplot as plt\n",
    "import pandas as pd"
   ]
  },
  {
   "cell_type": "code",
   "execution_count": 2,
   "id": "100d75d7",
   "metadata": {
    "execution": {
     "iopub.execute_input": "2022-03-02T07:44:27.005498Z",
     "iopub.status.busy": "2022-03-02T07:44:27.004771Z",
     "iopub.status.idle": "2022-03-02T07:44:27.020455Z",
     "shell.execute_reply": "2022-03-02T07:44:27.021054Z",
     "shell.execute_reply.started": "2022-03-02T07:38:22.260820Z"
    },
    "papermill": {
     "duration": 0.028325,
     "end_time": "2022-03-02T07:44:27.021238",
     "exception": false,
     "start_time": "2022-03-02T07:44:26.992913",
     "status": "completed"
    },
    "tags": []
   },
   "outputs": [],
   "source": [
    "dataset = pd.read_csv('../input/practical5/Position_Salaries.csv')\n",
    "X = dataset.iloc[:, 1 : 2 ].values\n",
    "y = dataset.iloc[:, 2 ].values"
   ]
  },
  {
   "cell_type": "code",
   "execution_count": 3,
   "id": "bfeeb903",
   "metadata": {
    "execution": {
     "iopub.execute_input": "2022-03-02T07:44:27.040502Z",
     "iopub.status.busy": "2022-03-02T07:44:27.039794Z",
     "iopub.status.idle": "2022-03-02T07:44:28.304583Z",
     "shell.execute_reply": "2022-03-02T07:44:28.305164Z",
     "shell.execute_reply.started": "2022-03-02T07:38:22.276967Z"
    },
    "papermill": {
     "duration": 1.277152,
     "end_time": "2022-03-02T07:44:28.305345",
     "exception": false,
     "start_time": "2022-03-02T07:44:27.028193",
     "status": "completed"
    },
    "tags": []
   },
   "outputs": [
    {
     "data": {
      "text/plain": [
       "DecisionTreeRegressor(random_state=0)"
      ]
     },
     "execution_count": 3,
     "metadata": {},
     "output_type": "execute_result"
    }
   ],
   "source": [
    "from sklearn.tree import DecisionTreeRegressor\n",
    "regressor = DecisionTreeRegressor(random_state = 0)\n",
    "regressor.fit(X, y)"
   ]
  },
  {
   "cell_type": "code",
   "execution_count": 4,
   "id": "98cc29bd",
   "metadata": {
    "execution": {
     "iopub.execute_input": "2022-03-02T07:44:28.328309Z",
     "iopub.status.busy": "2022-03-02T07:44:28.326220Z",
     "iopub.status.idle": "2022-03-02T07:44:28.569992Z",
     "shell.execute_reply": "2022-03-02T07:44:28.570528Z",
     "shell.execute_reply.started": "2022-03-02T07:38:22.285577Z"
    },
    "papermill": {
     "duration": 0.25781,
     "end_time": "2022-03-02T07:44:28.570702",
     "exception": false,
     "start_time": "2022-03-02T07:44:28.312892",
     "status": "completed"
    },
    "tags": []
   },
   "outputs": [
    {
     "data": {
      "image/png": "[encoded data removed]",
      "text/plain": [
       "<Figure size 432x288 with 1 Axes>"
      ]
     },
     "metadata": {
      "needs_background": "light"
     },
     "output_type": "display_data"
    }
   ],
   "source": [
    "plt.scatter( X, y, color = 'red' )\n",
    "plt.plot( X, regressor.predict(X), color = 'blue')\n",
    "plt.title( 'Truth or Bluff (Decision Tree Regression )')\n",
    "plt.xlabel('Position_level')\n",
    "plt.ylabel('Salary')\n",
    "plt.show()"
   ]
  },
  {
   "cell_type": "code",
   "execution_count": 5,
   "id": "217b417d",
   "metadata": {
    "execution": {
     "iopub.execute_input": "2022-03-02T07:44:28.609596Z",
     "iopub.status.busy": "2022-03-02T07:44:28.607161Z",
     "iopub.status.idle": "2022-03-02T07:44:28.812474Z",
     "shell.execute_reply": "2022-03-02T07:44:28.811869Z",
     "shell.execute_reply.started": "2022-03-02T07:38:22.471733Z"
    },
    "papermill": {
     "duration": 0.233729,
     "end_time": "2022-03-02T07:44:28.812627",
     "exception": false,
     "start_time": "2022-03-02T07:44:28.578898",
     "status": "completed"
    },
    "tags": []
   },
   "outputs": [
    {
     "data": {
      "image/png": "[encoded data removed]",
      "text/plain": [
       "<Figure size 432x288 with 1 Axes>"
      ]
     },
     "metadata": {
      "needs_background": "light"
     },
     "output_type": "display_data"
    }
   ],
   "source": [
    "X_grid = np.arange(min(X), max(X), 0.1)\n",
    "X_grid = X_grid.reshape((len(X_grid), 1))\n",
    "plt.scatter( X, y, color = 'red' )\n",
    "plt.plot( X_grid, regressor.predict(X_grid ), color = 'blue')\n",
    "plt.title( 'Truth or Bluff(Decision Tree Regression)')\n",
    "plt.xlabel('Position_level')\n",
    "plt.ylabel('Salary')\n",
    "plt.show()"
   ]
  }
 ],
 "metadata": {
  "kernelspec": {
   "display_name": "Python 3",
   "language": "python",
   "name": "python3"
  },
  "language_info": {
   "codemirror_mode": {
    "name": "ipython",
    "version": 3
   },
   "file_extension": ".py",
   "mimetype": "text/x-python",
   "name": "python",
   "nbconvert_exporter": "python",
   "pygments_lexer": "ipython3",
   "version": "3.7.12"
  },
  "papermill": {
   "default_parameters": {},
   "duration": 14.669687,
   "end_time": "2022-03-02T07:44:31.430095",
   "environment_variables": {},
   "exception": null,
   "input_path": "__notebook__.ipynb",
   "output_path": "__notebook__.ipynb",
   "parameters": {},
   "start_time": "2022-03-02T07:44:16.760408",
   "version": "2.3.3"
  }
 },
 "nbformat": 4,
 "nbformat_minor": 5
}
