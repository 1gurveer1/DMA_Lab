{
 "cells": [
  {
   "cell_type": "code",
   "execution_count": 1,
   "id": "0c614be4",
   "metadata": {
    "_cell_guid": "b1076dfc-b9ad-4769-8c92-a6c4dae69d19",
    "_uuid": "8f2839f25d086af736a60e9eeb907d3b93b6e0e5",
    "execution": {
     "iopub.execute_input": "2022-03-02T07:49:08.872633Z",
     "iopub.status.busy": "2022-03-02T07:49:08.870873Z",
     "iopub.status.idle": "2022-03-02T07:49:08.879416Z",
     "shell.execute_reply": "2022-03-02T07:49:08.879897Z",
     "shell.execute_reply.started": "2022-03-02T07:32:27.594273Z"
    },
    "papermill": {
     "duration": 0.023706,
     "end_time": "2022-03-02T07:49:08.880163",
     "exception": false,
     "start_time": "2022-03-02T07:49:08.856457",
     "status": "completed"
    },
    "tags": []
   },
   "outputs": [],
   "source": [
    "import numpy as np\n",
    "import matplotlib.pyplot as plt\n",
    "import pandas as pd"
   ]
  },
  {
   "cell_type": "markdown",
   "id": "a0694bb3",
   "metadata": {
    "papermill": {
     "duration": 0.008239,
     "end_time": "2022-03-02T07:49:08.898724",
     "exception": false,
     "start_time": "2022-03-02T07:49:08.890485",
     "status": "completed"
    },
    "tags": []
   },
   "source": [
    "<h1> importing Data </h1>\n"
   ]
  },
  {
   "cell_type": "code",
   "execution_count": 2,
   "id": "8dcb61a8",
   "metadata": {
    "execution": {
     "iopub.execute_input": "2022-03-02T07:49:08.919631Z",
     "iopub.status.busy": "2022-03-02T07:49:08.918693Z",
     "iopub.status.idle": "2022-03-02T07:49:08.935685Z",
     "shell.execute_reply": "2022-03-02T07:49:08.936182Z",
     "shell.execute_reply.started": "2022-03-02T07:32:27.599406Z"
    },
    "papermill": {
     "duration": 0.029213,
     "end_time": "2022-03-02T07:49:08.936364",
     "exception": false,
     "start_time": "2022-03-02T07:49:08.907151",
     "status": "completed"
    },
    "tags": []
   },
   "outputs": [],
   "source": [
    "dataset = pd.read_csv('../input/practical4/Position_Salaries.csv')\n",
    "X = dataset.iloc[:, 1 : 2 ].values\n",
    "y = dataset.iloc[:, 2 ].values"
   ]
  },
  {
   "cell_type": "markdown",
   "id": "7cf1acfd",
   "metadata": {
    "papermill": {
     "duration": 0.008212,
     "end_time": "2022-03-02T07:49:08.952871",
     "exception": false,
     "start_time": "2022-03-02T07:49:08.944659",
     "status": "completed"
    },
    "tags": []
   },
   "source": [
    "<h1> Fitting SVR to dataset </h1>"
   ]
  },
  {
   "cell_type": "code",
   "execution_count": 3,
   "id": "d2cf635f",
   "metadata": {
    "execution": {
     "iopub.execute_input": "2022-03-02T07:49:08.972539Z",
     "iopub.status.busy": "2022-03-02T07:49:08.971925Z",
     "iopub.status.idle": "2022-03-02T07:49:10.074640Z",
     "shell.execute_reply": "2022-03-02T07:49:10.074162Z",
     "shell.execute_reply.started": "2022-03-02T07:32:27.616722Z"
    },
    "papermill": {
     "duration": 1.113539,
     "end_time": "2022-03-02T07:49:10.074783",
     "exception": false,
     "start_time": "2022-03-02T07:49:08.961244",
     "status": "completed"
    },
    "tags": []
   },
   "outputs": [
    {
     "data": {
      "text/plain": [
       "SVR()"
      ]
     },
     "execution_count": 3,
     "metadata": {},
     "output_type": "execute_result"
    }
   ],
   "source": [
    "from sklearn.svm import SVR\n",
    "regressor = SVR(kernel = 'rbf')\n",
    "regressor.fit(X, y)"
   ]
  },
  {
   "cell_type": "markdown",
   "id": "857d1fef",
   "metadata": {
    "papermill": {
     "duration": 0.008497,
     "end_time": "2022-03-02T07:49:10.092283",
     "exception": false,
     "start_time": "2022-03-02T07:49:10.083786",
     "status": "completed"
    },
    "tags": []
   },
   "source": [
    "<h1> visualising the result </h1>"
   ]
  },
  {
   "cell_type": "markdown",
   "id": "bc207471",
   "metadata": {
    "papermill": {
     "duration": 0.008382,
     "end_time": "2022-03-02T07:49:10.109421",
     "exception": false,
     "start_time": "2022-03-02T07:49:10.101039",
     "status": "completed"
    },
    "tags": []
   },
   "source": []
  },
  {
   "cell_type": "code",
   "execution_count": 4,
   "id": "6309cb37",
   "metadata": {
    "execution": {
     "iopub.execute_input": "2022-03-02T07:49:10.130363Z",
     "iopub.status.busy": "2022-03-02T07:49:10.129759Z",
     "iopub.status.idle": "2022-03-02T07:49:10.347323Z",
     "shell.execute_reply": "2022-03-02T07:49:10.347918Z",
     "shell.execute_reply.started": "2022-03-02T07:32:27.625127Z"
    },
    "papermill": {
     "duration": 0.229791,
     "end_time": "2022-03-02T07:49:10.348087",
     "exception": false,
     "start_time": "2022-03-02T07:49:10.118296",
     "status": "completed"
    },
    "tags": []
   },
   "outputs": [
    {
     "data": {
      "image/png": "[encoded data removed]",
      "text/plain": [
       "<Figure size 432x288 with 1 Axes>"
      ]
     },
     "metadata": {
      "needs_background": "light"
     },
     "output_type": "display_data"
    }
   ],
   "source": [
    "plt.scatter( X, y, color = 'red' )\n",
    "plt.plot( X, regressor.predict(X), color = 'blue')\n",
    "plt.title( 'Truth or Bluff (SVR)')\n",
    "plt.xlabel('Position_level')\n",
    "plt.ylabel('Salary')\n",
    "plt.show()"
   ]
  },
  {
   "cell_type": "markdown",
   "id": "7d4f7167",
   "metadata": {
    "papermill": {
     "duration": 0.008988,
     "end_time": "2022-03-02T07:49:10.366298",
     "exception": false,
     "start_time": "2022-03-02T07:49:10.357310",
     "status": "completed"
    },
    "tags": []
   },
   "source": [
    "<h1> Feature Scaling </h1>"
   ]
  },
  {
   "cell_type": "code",
   "execution_count": 5,
   "id": "800c3e52",
   "metadata": {
    "execution": {
     "iopub.execute_input": "2022-03-02T07:49:10.387975Z",
     "iopub.status.busy": "2022-03-02T07:49:10.387378Z",
     "iopub.status.idle": "2022-03-02T07:49:10.392860Z",
     "shell.execute_reply": "2022-03-02T07:49:10.393323Z",
     "shell.execute_reply.started": "2022-03-02T07:32:27.814428Z"
    },
    "papermill": {
     "duration": 0.017904,
     "end_time": "2022-03-02T07:49:10.393499",
     "exception": false,
     "start_time": "2022-03-02T07:49:10.375595",
     "status": "completed"
    },
    "tags": []
   },
   "outputs": [],
   "source": [
    "from sklearn.preprocessing import StandardScaler\n",
    "sc_X = StandardScaler()\n",
    "sc_y = StandardScaler()\n",
    "X = sc_X.fit_transform(X)\n",
    "y = y.reshape(-1, 1)\n",
    "y = sc_y.fit_transform(y)"
   ]
  },
  {
   "cell_type": "code",
   "execution_count": 6,
   "id": "9be40f1d",
   "metadata": {
    "execution": {
     "iopub.execute_input": "2022-03-02T07:49:10.417241Z",
     "iopub.status.busy": "2022-03-02T07:49:10.416580Z",
     "iopub.status.idle": "2022-03-02T07:49:10.425260Z",
     "shell.execute_reply": "2022-03-02T07:49:10.424653Z",
     "shell.execute_reply.started": "2022-03-02T07:32:27.823784Z"
    },
    "papermill": {
     "duration": 0.022608,
     "end_time": "2022-03-02T07:49:10.425387",
     "exception": false,
     "start_time": "2022-03-02T07:49:10.402779",
     "status": "completed"
    },
    "tags": []
   },
   "outputs": [
    {
     "name": "stderr",
     "output_type": "stream",
     "text": [
      "/opt/conda/lib/python3.7/site-packages/sklearn/utils/validation.py:72: DataConversionWarning: A column-vector y was passed when a 1d array was expected. Please change the shape of y to (n_samples, ), for example using ravel().\n",
      "  return f(**kwargs)\n"
     ]
    },
    {
     "data": {
      "text/plain": [
       "SVR()"
      ]
     },
     "execution_count": 6,
     "metadata": {},
     "output_type": "execute_result"
    }
   ],
   "source": [
    "from sklearn.svm import SVR\n",
    "regressor = SVR(kernel = 'rbf')\n",
    "regressor.fit(X, y)"
   ]
  },
  {
   "cell_type": "code",
   "execution_count": 7,
   "id": "1d85cc05",
   "metadata": {
    "execution": {
     "iopub.execute_input": "2022-03-02T07:49:10.450719Z",
     "iopub.status.busy": "2022-03-02T07:49:10.449830Z",
     "iopub.status.idle": "2022-03-02T07:49:10.638823Z",
     "shell.execute_reply": "2022-03-02T07:49:10.639233Z",
     "shell.execute_reply.started": "2022-03-02T07:32:27.836437Z"
    },
    "papermill": {
     "duration": 0.203663,
     "end_time": "2022-03-02T07:49:10.639405",
     "exception": false,
     "start_time": "2022-03-02T07:49:10.435742",
     "status": "completed"
    },
    "tags": []
   },
   "outputs": [
    {
     "data": {
      "image/png": "[encoded data removed]",
      "text/plain": [
       "<Figure size 432x288 with 1 Axes>"
      ]
     },
     "metadata": {
      "needs_background": "light"
     },
     "output_type": "display_data"
    }
   ],
   "source": [
    "plt.scatter( X, y, color = 'red' )\n",
    "plt.plot( X, regressor.predict(X), color = 'blue')\n",
    "plt.title( 'Truth or Bluff (SVR)')\n",
    "plt.xlabel('Position_level')\n",
    "plt.ylabel('Salary')\n",
    "plt.show()"
   ]
  }
 ],
 "metadata": {
  "kernelspec": {
   "display_name": "Python 3",
   "language": "python",
   "name": "python3"
  },
  "language_info": {
   "codemirror_mode": {
    "name": "ipython",
    "version": 3
   },
   "file_extension": ".py",
   "mimetype": "text/x-python",
   "name": "python",
   "nbconvert_exporter": "python",
   "pygments_lexer": "ipython3",
   "version": "3.7.12"
  },
  "papermill": {
   "default_parameters": {},
   "duration": 10.814672,
   "end_time": "2022-03-02T07:49:11.360072",
   "environment_variables": {},
   "exception": null,
   "input_path": "__notebook__.ipynb",
   "output_path": "__notebook__.ipynb",
   "parameters": {},
   "start_time": "2022-03-02T07:49:00.545400",
   "version": "2.3.3"
  }
 },
 "nbformat": 4,
 "nbformat_minor": 5
}
